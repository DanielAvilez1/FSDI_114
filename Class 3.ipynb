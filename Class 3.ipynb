{
 "cells": [
  {
   "cell_type": "code",
   "execution_count": 9,
   "id": "35c87681",
   "metadata": {},
   "outputs": [],
   "source": [
    "class EmptyStackException(Exception):\n",
    "    message = \"Stack empty\"\n",
    "\n",
    "class Node:\n",
    "    def __init__(self, data):\n",
    "        self.data= data\n",
    "        self.above= None\n",
    "        \n",
    "class Stack:\n",
    "    def __init__(self):\n",
    "        self.base = None\n",
    "        \n",
    "    def push(self, item):\n",
    "        if not self.base:\n",
    "            self.base = Node(item)\n",
    "        else:\n",
    "            current = self.base\n",
    "            while current.above:\n",
    "                current = current.above\n",
    "            current.above = Node(item)    \n",
    "        \n",
    "    def pop(self):\n",
    "        # remember taht pop both removes and returns the topmost value\n",
    "        # from our stack. \"pringo can\"\n",
    "        if not self.base: # same thing as self.base == none\n",
    "            raise EmptyStackException(\"The stack is empty.\")\n",
    "        if not self.base.above:\n",
    "            datum = self.base.data\n",
    "            self.base = None\n",
    "            return datum\n",
    "        current = self.base\n",
    "        prev = None\n",
    "        while current.above:\n",
    "            prev = current\n",
    "            current = current.above\n",
    "        datum = current.data\n",
    "        prev.above = None\n",
    "        return datum\n",
    "    \n",
    "    def is_empty(self):\n",
    "        if not self.base:\n",
    "            return True\n",
    "        return False\n",
    "    \n",
    "     \n",
    "  #  def size(self):\n",
    "   #     pass\n",
    "    \n",
    "   # def peek(self):\n",
    "    #    pass\n",
    "        \n",
    "            \n",
    "    \n",
    "   "
   ]
  },
  {
   "cell_type": "code",
   "execution_count": 4,
   "id": "234ae7d1",
   "metadata": {},
   "outputs": [],
   "source": [
    "def invert(mystring):\n",
    "    stack = Stack()\n",
    "    out = \"\"\n",
    "    for letter in mystring:\n",
    "        stack.push(letter)\n",
    "    while not stack.is_empty():\n",
    "        out += stack.pop()\n",
    "    return out"
   ]
  },
  {
   "cell_type": "code",
   "execution_count": 10,
   "id": "54c4252f",
   "metadata": {},
   "outputs": [
    {
     "name": "stdout",
     "output_type": "stream",
     "text": [
      "leinaD\n"
     ]
    }
   ],
   "source": [
    "o = invert (\"Daniel\")\n",
    "print (o)"
   ]
  },
  {
   "cell_type": "markdown",
   "id": "db37b32e",
   "metadata": {},
   "source": [
    "# Linked Lists\n",
    "\n",
    "## Linked Lists are data structures composed of nodes in which each node must know the following node's address (via a pointer).\n",
    "\n",
    "### There are two main types of linked lists:\n",
    "1. Singly Linked Lists: Lists that can only be traveresed in a sigle direction.\n",
    "2. Doubly Linked Lists: Lists that can be traversed in two directions(forward and backwards)."
   ]
  },
  {
   "cell_type": "code",
   "execution_count": 11,
   "id": "0e42894d",
   "metadata": {},
   "outputs": [],
   "source": [
    "mylist = []"
   ]
  },
  {
   "cell_type": "code",
   "execution_count": 12,
   "id": "cecd900f",
   "metadata": {},
   "outputs": [],
   "source": [
    "class Node:\n",
    "    def __init__(self, data):\n",
    "        self.data = data\n",
    "        self.next = None"
   ]
  },
  {
   "cell_type": "code",
   "execution_count": 3,
   "id": "9784a66f",
   "metadata": {},
   "outputs": [],
   "source": [
    "class SinglyLinkedList:\n",
    "    def __init__(self):\n",
    "        self.head = None\n",
    "        \n",
    "    def append(self, item):\n",
    "        if not self.head:\n",
    "            self.head = Node(item)\n",
    "        else:\n",
    "            current = self.head\n",
    "            while current.next:\n",
    "                current = current.next\n",
    "            current.next = Node(item)\n",
    "            \n",
    "    def __str__(self):\n",
    "        out = \"[\"\n",
    "        if self.head:\n",
    "            out += \"%s\" % self.head.data\n",
    "        current = self.head.next\n",
    "        while current:\n",
    "            out += \", %s\" % current.data\n",
    "            current = current.next\n",
    "        out += \"]\"\n",
    "        return out\n",
    "        \n",
    "    def insert(self, index, item):\n",
    "        if not self.head:\n",
    "            self.head = Node(item)\n",
    "        else:\n",
    "            if index == 0:\n",
    "                node = Node(item)\n",
    "                temp = self.head\n",
    "                self.head = node\n",
    "                node.next = temp\n",
    "            else:\n",
    "                current = self.head\n",
    "                prev = None\n",
    "                counter = 0\n",
    "                while current.next and counter != index:\n",
    "                    prev = current\n",
    "                    current = current.next\n",
    "                    counter = counter +1\n",
    "                if counter == index:\n",
    "                    node = Node(item)\n",
    "                    prev.next = node\n",
    "                    node.next = current\n",
    "                else:\n",
    "                    node = Node(item)\n",
    "                    current.next = node\n",
    "    \n",
    "    def remove(self, target):\n",
    "        pass"
   ]
  },
  {
   "cell_type": "code",
   "execution_count": 4,
   "id": "fb46f4b1",
   "metadata": {},
   "outputs": [
    {
     "ename": "NameError",
     "evalue": "name 'Node' is not defined",
     "output_type": "error",
     "traceback": [
      "\u001b[0;31m---------------------------------------------------------------------------\u001b[0m",
      "\u001b[0;31mNameError\u001b[0m                                 Traceback (most recent call last)",
      "Input \u001b[0;32mIn [4]\u001b[0m, in \u001b[0;36m<cell line: 3>\u001b[0;34m()\u001b[0m\n\u001b[1;32m      1\u001b[0m sll \u001b[38;5;241m=\u001b[39m SinglyLinkedList()\n\u001b[0;32m----> 3\u001b[0m \u001b[43msll\u001b[49m\u001b[38;5;241;43m.\u001b[39;49m\u001b[43mappend\u001b[49m\u001b[43m(\u001b[49m\u001b[38;5;241;43m1\u001b[39;49m\u001b[43m)\u001b[49m\n\u001b[1;32m      4\u001b[0m sll\u001b[38;5;241m.\u001b[39mappend(\u001b[38;5;241m2\u001b[39m)\n\u001b[1;32m      5\u001b[0m sll\u001b[38;5;241m.\u001b[39mappend(\u001b[38;5;241m3\u001b[39m)\n",
      "Input \u001b[0;32mIn [3]\u001b[0m, in \u001b[0;36mSinglyLinkedList.append\u001b[0;34m(self, item)\u001b[0m\n\u001b[1;32m      5\u001b[0m \u001b[38;5;28;01mdef\u001b[39;00m \u001b[38;5;21mappend\u001b[39m(\u001b[38;5;28mself\u001b[39m, item):\n\u001b[1;32m      6\u001b[0m     \u001b[38;5;28;01mif\u001b[39;00m \u001b[38;5;129;01mnot\u001b[39;00m \u001b[38;5;28mself\u001b[39m\u001b[38;5;241m.\u001b[39mhead:\n\u001b[0;32m----> 7\u001b[0m         \u001b[38;5;28mself\u001b[39m\u001b[38;5;241m.\u001b[39mhead \u001b[38;5;241m=\u001b[39m \u001b[43mNode\u001b[49m(item)\n\u001b[1;32m      8\u001b[0m     \u001b[38;5;28;01melse\u001b[39;00m:\n\u001b[1;32m      9\u001b[0m         current \u001b[38;5;241m=\u001b[39m \u001b[38;5;28mself\u001b[39m\u001b[38;5;241m.\u001b[39mhead\n",
      "\u001b[0;31mNameError\u001b[0m: name 'Node' is not defined"
     ]
    }
   ],
   "source": [
    "sll = SinglyLinkedList()\n",
    "\n",
    "sll.append(1)\n",
    "sll.append(2)\n",
    "sll.append(3)\n",
    "\n",
    "print(sll)"
   ]
  },
  {
   "cell_type": "code",
   "execution_count": null,
   "id": "2cf6e969",
   "metadata": {},
   "outputs": [],
   "source": []
  }
 ],
 "metadata": {
  "kernelspec": {
   "display_name": "Python 3 (ipykernel)",
   "language": "python",
   "name": "python3"
  },
  "language_info": {
   "codemirror_mode": {
    "name": "ipython",
    "version": 3
   },
   "file_extension": ".py",
   "mimetype": "text/x-python",
   "name": "python",
   "nbconvert_exporter": "python",
   "pygments_lexer": "ipython3",
   "version": "3.10.5"
  }
 },
 "nbformat": 4,
 "nbformat_minor": 5
}
