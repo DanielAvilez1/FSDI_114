{
 "cells": [
  {
   "cell_type": "code",
   "execution_count": 9,
   "id": "35c87681",
   "metadata": {},
   "outputs": [],
   "source": [
    "class EmptyStackException(Exception):\n",
    "    message = \"Stack empty\"\n",
    "\n",
    "class Node:\n",
    "    def __init__(self, data):\n",
    "        self.data= data\n",
    "        self.above= None\n",
    "        \n",
    "class Stack:\n",
    "    def __init__(self):\n",
    "        self.base = None\n",
    "        \n",
    "    def push(self, item):\n",
    "        if not self.base:\n",
    "            self.base = Node(item)\n",
    "        else:\n",
    "            current = self.base\n",
    "            while current.above:\n",
    "                current = current.above\n",
    "            current.above = Node(item)    \n",
    "        \n",
    "    def pop(self):\n",
    "        # remember taht pop both removes and returns the topmost value\n",
    "        # from our stack. \"pringo can\"\n",
    "        if not self.base: # same thing as self.base == none\n",
    "            raise EmptyStackException(\"The stack is empty.\")\n",
    "        if not self.base.above:\n",
    "            datum = self.base.data\n",
    "            self.base = None\n",
    "            return datum\n",
    "        current = self.base\n",
    "        prev = None\n",
    "        while current.above:\n",
    "            prev = current\n",
    "            current = current.above\n",
    "        datum = current.data\n",
    "        prev.above = None\n",
    "        return datum\n",
    "    \n",
    "    def is_empty(self):\n",
    "        if not self.base:\n",
    "            return True\n",
    "        return False\n",
    "    \n",
    "     \n",
    "  #  def size(self):\n",
    "   #     pass\n",
    "    \n",
    "   # def peek(self):\n",
    "    #    pass\n",
    "        \n",
    "            \n",
    "    \n",
    "   "
   ]
  },
  {
   "cell_type": "code",
   "execution_count": 4,
   "id": "234ae7d1",
   "metadata": {},
   "outputs": [],
   "source": [
    "def invert(mystring):\n",
    "    stack = Stack()\n",
    "    out = \"\"\n",
    "    for letter in mystring:\n",
    "        stack.push(letter)\n",
    "    while not stack.is_empty():\n",
    "        out += stack.pop()\n",
    "    return out"
   ]
  },
  {
   "cell_type": "code",
   "execution_count": 10,
   "id": "54c4252f",
   "metadata": {},
   "outputs": [
    {
     "name": "stdout",
     "output_type": "stream",
     "text": [
      "leinaD\n"
     ]
    }
   ],
   "source": [
    "o = invert (\"Daniel\")\n",
    "print (o)"
   ]
  },
  {
   "cell_type": "markdown",
   "id": "db37b32e",
   "metadata": {},
   "source": [
    "# Linked Lists\n",
    "\n",
    "## Linked Lists are data structures composed of nodes in which each node must know the following node's address (via a pointer).\n",
    "\n",
    "### There are two main types of linked lists:\n",
    "1. Singly Linked Lists: Lists that can only be traveresed in a sigle direction.\n",
    "2. Doubly Linked Lists: Lists that can be traversed in two directions(forward and backwards)."
   ]
  },
  {
   "cell_type": "code",
   "execution_count": 11,
   "id": "0e42894d",
   "metadata": {},
   "outputs": [],
   "source": [
    "mylist = []"
   ]
  },
  {
   "cell_type": "code",
   "execution_count": 12,
   "id": "cecd900f",
   "metadata": {},
   "outputs": [],
   "source": [
    "class Node:\n",
    "    def __init__(self, data):\n",
    "        self.data = data\n",
    "        self.next = None"
   ]
  },
  {
   "cell_type": "code",
   "execution_count": 26,
   "id": "9784a66f",
   "metadata": {},
   "outputs": [],
   "source": [
    "class SinglyLinkedList:\n",
    "    def __init__(self):\n",
    "        self.head = None\n",
    "        \n",
    "    def append(self, item):\n",
    "        if not self.head:\n",
    "            self.head = Node(item)\n",
    "        else:\n",
    "            current = self.head\n",
    "            while current.next:\n",
    "                current = current.next\n",
    "            current.next = Node(item)\n",
    "            \n",
    "    def __str__(self):\n",
    "        out = \"[\"\n",
    "        if self.head:\n",
    "            out += \"%s\" % self.head.data\n",
    "        current = self.head.next\n",
    "        while current:\n",
    "            out += \", %s\" % current.data\n",
    "            current = current.next\n",
    "        out += \"]\"\n",
    "        return out\n",
    "        \n",
    "    def insert(self, target, item):\n",
    "        pass\n",
    "    def remove(self, target):\n",
    "        pass"
   ]
  },
  {
   "cell_type": "code",
   "execution_count": 27,
   "id": "fb46f4b1",
   "metadata": {},
   "outputs": [
    {
     "name": "stdout",
     "output_type": "stream",
     "text": [
      "[1, 2, 3]\n"
     ]
    }
   ],
   "source": [
    "sll = SinglyLinkedList()\n",
    "\n",
    "sll.append(1)\n",
    "sll.append(2)\n",
    "sll.append(3)\n",
    "\n",
    "print(sll)"
   ]
  },
  {
   "cell_type": "code",
   "execution_count": null,
   "id": "2cf6e969",
   "metadata": {},
   "outputs": [],
   "source": []
  }
 ],
 "metadata": {
  "kernelspec": {
   "display_name": "Python 3 (ipykernel)",
   "language": "python",
   "name": "python3"
  },
  "language_info": {
   "codemirror_mode": {
    "name": "ipython",
    "version": 3
   },
   "file_extension": ".py",
   "mimetype": "text/x-python",
   "name": "python",
   "nbconvert_exporter": "python",
   "pygments_lexer": "ipython3",
   "version": "3.10.5"
  }
 },
 "nbformat": 4,
 "nbformat_minor": 5
}
