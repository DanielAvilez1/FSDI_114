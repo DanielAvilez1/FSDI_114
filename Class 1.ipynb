{
 "cells": [
  {
   "cell_type": "code",
   "execution_count": 2,
   "id": "e5baa031",
   "metadata": {},
   "outputs": [
    {
     "name": "stdout",
     "output_type": "stream",
     "text": [
      "H\n",
      "e\n",
      "l\n",
      "l\n",
      "o\n",
      ",\n",
      " \n",
      "w\n",
      "o\n",
      "r\n",
      "l\n",
      "d\n",
      "!\n"
     ]
    }
   ],
   "source": [
    "for letter in \"Hello, world!\":\n",
    "    print(letter)\n",
    "    "
   ]
  },
  {
   "cell_type": "markdown",
   "id": "bda94176",
   "metadata": {},
   "source": [
    "# Problem 1\n",
    "\n",
    "### Given two strings (string_a and string_b) let's cheack whether or not these are anagrams of each other given the following criteria:\n",
    "\n",
    "#### Two strings are anagrams of each other if all conditions below are met:\n",
    "1. They must be exactly of the same length.\n",
    "2. They must use the exact same characters (no more, no less).\n",
    "\n",
    "`Example: cars and scar, heart and earth, ect."
   ]
  },
  {
   "cell_type": "code",
   "execution_count": 3,
   "id": "9956a00e",
   "metadata": {},
   "outputs": [],
   "source": [
    "# Instructions: populate the funtction below, so that it returns True if the parameters are anagrams,\n",
    "#False otherwise.\n",
    "\n",
    "def are_anagrams(string_a, string_b):\n",
    "    pass # remove pass when you've implemented the solution\n",
    "\n",
    "# without syntactic sugar"
   ]
  },
  {
   "cell_type": "code",
   "execution_count": 4,
   "id": "3e43c7cc",
   "metadata": {},
   "outputs": [],
   "source": [
    "# Bad SOLUTION\n",
    "\n",
    "def bad_are_anagrams(string_a,string_b):\n",
    "    return sorted(string_a) == sorted (string_b)\n"
   ]
  },
  {
   "cell_type": "code",
   "execution_count": 5,
   "id": "bf534596",
   "metadata": {},
   "outputs": [
    {
     "data": {
      "text/plain": [
       "True"
      ]
     },
     "execution_count": 5,
     "metadata": {},
     "output_type": "execute_result"
    }
   ],
   "source": [
    "bad_are_anagrams(\"cars\",\"scar\")"
   ]
  },
  {
   "cell_type": "code",
   "execution_count": 1,
   "id": "b86109ae",
   "metadata": {},
   "outputs": [],
   "source": [
    "def are_anagrams(string_a, string_b):\n",
    "    if len(string_a) != len(string_b):\n",
    "        return False\n",
    "    dict_a = {}\n",
    "    dict_b = {}\n",
    "    for i in range(len(string_a)):\n",
    "        if string_a[i] in dict_a.keys():\n",
    "            dict_a[string_a[i]] += 1\n",
    "        else:\n",
    "            dict_a[string_a[i]] = 1\n",
    "        if string_b[i] in dict_b.keys():\n",
    "                dict_b[string_b[i]] += 1\n",
    "        else:\n",
    "            dict_b[string_b[i]]= 1\n",
    "    return dict_a == dict_b            "
   ]
  },
  {
   "cell_type": "code",
   "execution_count": null,
   "id": "79df65e0",
   "metadata": {},
   "outputs": [],
   "source": []
  },
  {
   "cell_type": "code",
   "execution_count": 2,
   "id": "562ba35e",
   "metadata": {},
   "outputs": [
    {
     "data": {
      "text/plain": [
       "True"
      ]
     },
     "execution_count": 2,
     "metadata": {},
     "output_type": "execute_result"
    }
   ],
   "source": [
    "are_anagrams(\"scar\", \"cars\")"
   ]
  },
  {
   "cell_type": "code",
   "execution_count": null,
   "id": "015f5cf2",
   "metadata": {},
   "outputs": [],
   "source": []
  }
 ],
 "metadata": {
  "kernelspec": {
   "display_name": "Python 3.10.5 ('venv': venv)",
   "language": "python",
   "name": "python3"
  },
  "language_info": {
   "codemirror_mode": {
    "name": "ipython",
    "version": 3
   },
   "file_extension": ".py",
   "mimetype": "text/x-python",
   "name": "python",
   "nbconvert_exporter": "python",
   "pygments_lexer": "ipython3",
   "version": "3.10.5"
  },
  "vscode": {
   "interpreter": {
    "hash": "1c9faf7cbbe1c0fc68d15962af680f2bd718514f96824efd1efd831b71f88df5"
   }
  }
 },
 "nbformat": 4,
 "nbformat_minor": 5
}
