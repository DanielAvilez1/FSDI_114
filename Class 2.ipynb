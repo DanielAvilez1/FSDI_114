{
 "cells": [
  {
   "cell_type": "code",
   "execution_count": 6,
   "id": "c5d5bb48",
   "metadata": {},
   "outputs": [],
   "source": [
    "#This is an example of a stack using built in data structures \n",
    "\n",
    "class Stack:\n",
    "    def __init__(self):\n",
    "        self.items = []\n",
    "        \n",
    "    def push(self, item):\n",
    "        self.items.append(item)\n",
    "    \n",
    "    def pop(self) :\n",
    "           return self.items.pop()\n",
    "        \n",
    "    # helper methods    \n",
    "    def is_empty(self):\n",
    "        return self.items == []\n",
    "    \n",
    "    def size(self):\n",
    "        return len(self.items)\n",
    "    \n",
    "    \n",
    "    def peek(self):\n",
    "        return self.items[len(self.items)-1]\n",
    "        "
   ]
  },
  {
   "cell_type": "markdown",
   "id": "ddce9284",
   "metadata": {},
   "source": [
    "# Problem 2: Invert a string\n",
    "\n",
    "## Stacks naturally allow us to invert a sequence of elements if we sequentially push them onto our stack and sequentially pop them from out stack.\n",
    "\n",
    "Use our stack class above to invert a string such that:\n",
    "\n",
    "\n",
    "reverse(\"Rafael\") returns \"leafaR\"\n",
    "reverse(\"racecar\") returns \"racecar\"\n",
    "reverse(\"AbCdE\") returns \"EdCbA\""
   ]
  },
  {
   "cell_type": "code",
   "execution_count": 10,
   "id": "48c470fd",
   "metadata": {},
   "outputs": [
    {
     "name": "stdout",
     "output_type": "stream",
     "text": [
      "leinaD\n",
      "racecar\n",
      "EdCbA\n",
      "emoh ma I\n"
     ]
    }
   ],
   "source": [
    "def reverse(mystring):\n",
    "    stack = Stack()\n",
    "    out = \"\"\n",
    "    for letter in mystring:\n",
    "        stack.push(letter)\n",
    "    while stack.is_empty() != True:    \n",
    "        out = out + stack.pop()\n",
    "    return out\n",
    "print(reverse(\"Daniel\"))\n",
    "print(reverse(\"racecar\"))\n",
    "print(reverse(\"AbCdE\"))  \n",
    "print(reverse(\"I am home\"))"
   ]
  },
  {
   "cell_type": "code",
   "execution_count": 12,
   "id": "ba7a9a2b",
   "metadata": {},
   "outputs": [],
   "source": [
    "class queue:\n",
    "    def __init__(self):\n",
    "        self.items = []\n",
    "    \n",
    "    def enqueue(self,item):\n",
    "        self.items.insert(0,item)\n",
    "        \n",
    "    def dequeue(self):\n",
    "        return self.item.pop()\n",
    "    \n",
    "    def is_empty(self):\n",
    "        return self.items ==[]\n",
    "        \n",
    "    def size(self):\n",
    "        return len(self.items)\n",
    "    "
   ]
  },
  {
   "cell_type": "code",
   "execution_count": 51,
   "id": "19599ad3",
   "metadata": {},
   "outputs": [],
   "source": [
    "from random import randint\n",
    "from time import sleep\n",
    "\n",
    "\n",
    "def square_queue(elements):\n",
    "    queue = Queue()\n",
    "    for element in elements:\n",
    "        print(\"Adding %s to our queue.\" % element)\n",
    "        queue.enqueue(element)\n",
    "    while not queue.is_empty():\n",
    "        datum = queue.dequeue()\n",
    "        sleep(randint(1,3))\n",
    "    print (\"%s squared is %s\" % (daum,datum**2))\n",
    "        \n",
    "    \n",
    "    "
   ]
  },
  {
   "cell_type": "code",
   "execution_count": 52,
   "id": "06f40464",
   "metadata": {},
   "outputs": [
    {
     "ename": "NameError",
     "evalue": "name 'Queue' is not defined",
     "output_type": "error",
     "traceback": [
      "\u001b[0;31m---------------------------------------------------------------------------\u001b[0m",
      "\u001b[0;31mNameError\u001b[0m                                 Traceback (most recent call last)",
      "Input \u001b[0;32mIn [52]\u001b[0m, in \u001b[0;36m<cell line: 1>\u001b[0;34m()\u001b[0m\n\u001b[0;32m----> 1\u001b[0m \u001b[43msquare_queue\u001b[49m\u001b[43m(\u001b[49m\u001b[43m[\u001b[49m\u001b[38;5;241;43m1\u001b[39;49m\u001b[43m,\u001b[49m\u001b[43m \u001b[49m\u001b[38;5;241;43m2\u001b[39;49m\u001b[43m,\u001b[49m\u001b[43m \u001b[49m\u001b[38;5;241;43m3\u001b[39;49m\u001b[43m,\u001b[49m\u001b[43m \u001b[49m\u001b[38;5;241;43m4\u001b[39;49m\u001b[43m,\u001b[49m\u001b[43m \u001b[49m\u001b[38;5;241;43m5\u001b[39;49m\u001b[43m]\u001b[49m\u001b[43m)\u001b[49m\n",
      "Input \u001b[0;32mIn [51]\u001b[0m, in \u001b[0;36msquare_queue\u001b[0;34m(elements)\u001b[0m\n\u001b[1;32m      5\u001b[0m \u001b[38;5;28;01mdef\u001b[39;00m \u001b[38;5;21msquare_queue\u001b[39m(elements):\n\u001b[0;32m----> 6\u001b[0m     queue \u001b[38;5;241m=\u001b[39m \u001b[43mQueue\u001b[49m()\n\u001b[1;32m      7\u001b[0m     \u001b[38;5;28;01mfor\u001b[39;00m element \u001b[38;5;129;01min\u001b[39;00m elements:\n\u001b[1;32m      8\u001b[0m         \u001b[38;5;28mprint\u001b[39m(\u001b[38;5;124m\"\u001b[39m\u001b[38;5;124mAdding \u001b[39m\u001b[38;5;132;01m%s\u001b[39;00m\u001b[38;5;124m to our queue.\u001b[39m\u001b[38;5;124m\"\u001b[39m \u001b[38;5;241m%\u001b[39m element)\n",
      "\u001b[0;31mNameError\u001b[0m: name 'Queue' is not defined"
     ]
    }
   ],
   "source": [
    "square_queue([1, 2, 3, 4, 5])"
   ]
  },
  {
   "cell_type": "code",
   "execution_count": 35,
   "id": "407e220b",
   "metadata": {},
   "outputs": [],
   "source": [
    "class Node:\n",
    "    def __init__(self, data):\n",
    "        self.data= data\n",
    "        self.above= None\n",
    "    "
   ]
  },
  {
   "cell_type": "code",
   "execution_count": 36,
   "id": "48d0fdf4",
   "metadata": {},
   "outputs": [],
   "source": [
    "class Stack:\n",
    "    def __init__(self):\n",
    "        self.base = None\n",
    "        \n",
    "    def push(self, item):\n",
    "        if not self.base:\n",
    "            self.base = Node(item)\n",
    "        else:\n",
    "            current = self.base\n",
    "            while current.above:\n",
    "                current = current.above\n",
    "            current.above = Node(item)    \n",
    "        \n",
    "    def pop(self):\n",
    "        pass\n",
    "    \n",
    "    def is_empty(self):\n",
    "        if not self.base:\n",
    "            return True\n",
    "        return False\n",
    "    \n",
    "    def size(self):\n",
    "        pass\n",
    "    \n",
    "    def peek(self):\n",
    "        pass\n",
    "        "
   ]
  },
  {
   "cell_type": "code",
   "execution_count": null,
   "id": "1e103436",
   "metadata": {},
   "outputs": [],
   "source": []
  }
 ],
 "metadata": {
  "kernelspec": {
   "display_name": "Python 3 (ipykernel)",
   "language": "python",
   "name": "python3"
  },
  "language_info": {
   "codemirror_mode": {
    "name": "ipython",
    "version": 3
   },
   "file_extension": ".py",
   "mimetype": "text/x-python",
   "name": "python",
   "nbconvert_exporter": "python",
   "pygments_lexer": "ipython3",
   "version": "3.10.5"
  }
 },
 "nbformat": 4,
 "nbformat_minor": 5
}
